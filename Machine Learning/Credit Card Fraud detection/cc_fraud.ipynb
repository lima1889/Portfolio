{
 "cells": [
  {
   "cell_type": "code",
   "execution_count": 134,
   "id": "1a15e4ef",
   "metadata": {
    "scrolled": false
   },
   "outputs": [
    {
     "name": "stdout",
     "output_type": "stream",
     "text": [
      "Requirement already satisfied: imbalanced-learn in /home/guilherme/anaconda3/lib/python3.8/site-packages (0.9.0)\n",
      "Requirement already satisfied: scipy>=1.1.0 in /home/guilherme/anaconda3/lib/python3.8/site-packages (from imbalanced-learn) (1.7.1)\n",
      "Requirement already satisfied: numpy>=1.14.6 in /home/guilherme/anaconda3/lib/python3.8/site-packages (from imbalanced-learn) (1.20.3)\n",
      "Requirement already satisfied: joblib>=0.11 in /home/guilherme/anaconda3/lib/python3.8/site-packages (from imbalanced-learn) (1.0.1)\n",
      "Requirement already satisfied: scikit-learn>=1.0.1 in /home/guilherme/anaconda3/lib/python3.8/site-packages (from imbalanced-learn) (1.0.2)\n",
      "Requirement already satisfied: threadpoolctl>=2.0.0 in /home/guilherme/anaconda3/lib/python3.8/site-packages (from imbalanced-learn) (2.2.0)\n"
     ]
    }
   ],
   "source": [
    "!pip install -U imbalanced-learn"
   ]
  },
  {
   "cell_type": "markdown",
   "id": "dc30602f",
   "metadata": {},
   "source": [
    "### Import libraries "
   ]
  },
  {
   "cell_type": "code",
   "execution_count": 135,
   "id": "57de7ef2",
   "metadata": {},
   "outputs": [],
   "source": [
    "import pandas as pd\n",
    "import numpy as np\n",
    "from sklearn.ensemble import RandomForestClassifier\n",
    "from sklearn import model_selection\n",
    "from sklearn import metrics\n",
    "from imblearn.over_sampling import SMOTE"
   ]
  },
  {
   "cell_type": "markdown",
   "id": "8641cec2",
   "metadata": {},
   "source": [
    "### Import the file"
   ]
  },
  {
   "cell_type": "code",
   "execution_count": 136,
   "id": "60f5c58a",
   "metadata": {},
   "outputs": [],
   "source": [
    "df = pd.read_csv('creditcard.csv')"
   ]
  },
  {
   "cell_type": "code",
   "execution_count": 137,
   "id": "2021400a",
   "metadata": {
    "scrolled": false
   },
   "outputs": [
    {
     "data": {
      "text/html": [
       "<div>\n",
       "<style scoped>\n",
       "    .dataframe tbody tr th:only-of-type {\n",
       "        vertical-align: middle;\n",
       "    }\n",
       "\n",
       "    .dataframe tbody tr th {\n",
       "        vertical-align: top;\n",
       "    }\n",
       "\n",
       "    .dataframe thead th {\n",
       "        text-align: right;\n",
       "    }\n",
       "</style>\n",
       "<table border=\"1\" class=\"dataframe\">\n",
       "  <thead>\n",
       "    <tr style=\"text-align: right;\">\n",
       "      <th></th>\n",
       "      <th>Time</th>\n",
       "      <th>V1</th>\n",
       "      <th>V2</th>\n",
       "      <th>V3</th>\n",
       "      <th>V4</th>\n",
       "      <th>V5</th>\n",
       "      <th>V6</th>\n",
       "      <th>V7</th>\n",
       "      <th>V8</th>\n",
       "      <th>V9</th>\n",
       "      <th>...</th>\n",
       "      <th>V21</th>\n",
       "      <th>V22</th>\n",
       "      <th>V23</th>\n",
       "      <th>V24</th>\n",
       "      <th>V25</th>\n",
       "      <th>V26</th>\n",
       "      <th>V27</th>\n",
       "      <th>V28</th>\n",
       "      <th>Amount</th>\n",
       "      <th>Class</th>\n",
       "    </tr>\n",
       "  </thead>\n",
       "  <tbody>\n",
       "    <tr>\n",
       "      <th>0</th>\n",
       "      <td>0.0</td>\n",
       "      <td>-1.359807</td>\n",
       "      <td>-0.072781</td>\n",
       "      <td>2.536347</td>\n",
       "      <td>1.378155</td>\n",
       "      <td>-0.338321</td>\n",
       "      <td>0.462388</td>\n",
       "      <td>0.239599</td>\n",
       "      <td>0.098698</td>\n",
       "      <td>0.363787</td>\n",
       "      <td>...</td>\n",
       "      <td>-0.018307</td>\n",
       "      <td>0.277838</td>\n",
       "      <td>-0.110474</td>\n",
       "      <td>0.066928</td>\n",
       "      <td>0.128539</td>\n",
       "      <td>-0.189115</td>\n",
       "      <td>0.133558</td>\n",
       "      <td>-0.021053</td>\n",
       "      <td>149.62</td>\n",
       "      <td>0</td>\n",
       "    </tr>\n",
       "    <tr>\n",
       "      <th>1</th>\n",
       "      <td>0.0</td>\n",
       "      <td>1.191857</td>\n",
       "      <td>0.266151</td>\n",
       "      <td>0.166480</td>\n",
       "      <td>0.448154</td>\n",
       "      <td>0.060018</td>\n",
       "      <td>-0.082361</td>\n",
       "      <td>-0.078803</td>\n",
       "      <td>0.085102</td>\n",
       "      <td>-0.255425</td>\n",
       "      <td>...</td>\n",
       "      <td>-0.225775</td>\n",
       "      <td>-0.638672</td>\n",
       "      <td>0.101288</td>\n",
       "      <td>-0.339846</td>\n",
       "      <td>0.167170</td>\n",
       "      <td>0.125895</td>\n",
       "      <td>-0.008983</td>\n",
       "      <td>0.014724</td>\n",
       "      <td>2.69</td>\n",
       "      <td>0</td>\n",
       "    </tr>\n",
       "    <tr>\n",
       "      <th>2</th>\n",
       "      <td>1.0</td>\n",
       "      <td>-1.358354</td>\n",
       "      <td>-1.340163</td>\n",
       "      <td>1.773209</td>\n",
       "      <td>0.379780</td>\n",
       "      <td>-0.503198</td>\n",
       "      <td>1.800499</td>\n",
       "      <td>0.791461</td>\n",
       "      <td>0.247676</td>\n",
       "      <td>-1.514654</td>\n",
       "      <td>...</td>\n",
       "      <td>0.247998</td>\n",
       "      <td>0.771679</td>\n",
       "      <td>0.909412</td>\n",
       "      <td>-0.689281</td>\n",
       "      <td>-0.327642</td>\n",
       "      <td>-0.139097</td>\n",
       "      <td>-0.055353</td>\n",
       "      <td>-0.059752</td>\n",
       "      <td>378.66</td>\n",
       "      <td>0</td>\n",
       "    </tr>\n",
       "    <tr>\n",
       "      <th>3</th>\n",
       "      <td>1.0</td>\n",
       "      <td>-0.966272</td>\n",
       "      <td>-0.185226</td>\n",
       "      <td>1.792993</td>\n",
       "      <td>-0.863291</td>\n",
       "      <td>-0.010309</td>\n",
       "      <td>1.247203</td>\n",
       "      <td>0.237609</td>\n",
       "      <td>0.377436</td>\n",
       "      <td>-1.387024</td>\n",
       "      <td>...</td>\n",
       "      <td>-0.108300</td>\n",
       "      <td>0.005274</td>\n",
       "      <td>-0.190321</td>\n",
       "      <td>-1.175575</td>\n",
       "      <td>0.647376</td>\n",
       "      <td>-0.221929</td>\n",
       "      <td>0.062723</td>\n",
       "      <td>0.061458</td>\n",
       "      <td>123.50</td>\n",
       "      <td>0</td>\n",
       "    </tr>\n",
       "    <tr>\n",
       "      <th>4</th>\n",
       "      <td>2.0</td>\n",
       "      <td>-1.158233</td>\n",
       "      <td>0.877737</td>\n",
       "      <td>1.548718</td>\n",
       "      <td>0.403034</td>\n",
       "      <td>-0.407193</td>\n",
       "      <td>0.095921</td>\n",
       "      <td>0.592941</td>\n",
       "      <td>-0.270533</td>\n",
       "      <td>0.817739</td>\n",
       "      <td>...</td>\n",
       "      <td>-0.009431</td>\n",
       "      <td>0.798278</td>\n",
       "      <td>-0.137458</td>\n",
       "      <td>0.141267</td>\n",
       "      <td>-0.206010</td>\n",
       "      <td>0.502292</td>\n",
       "      <td>0.219422</td>\n",
       "      <td>0.215153</td>\n",
       "      <td>69.99</td>\n",
       "      <td>0</td>\n",
       "    </tr>\n",
       "    <tr>\n",
       "      <th>...</th>\n",
       "      <td>...</td>\n",
       "      <td>...</td>\n",
       "      <td>...</td>\n",
       "      <td>...</td>\n",
       "      <td>...</td>\n",
       "      <td>...</td>\n",
       "      <td>...</td>\n",
       "      <td>...</td>\n",
       "      <td>...</td>\n",
       "      <td>...</td>\n",
       "      <td>...</td>\n",
       "      <td>...</td>\n",
       "      <td>...</td>\n",
       "      <td>...</td>\n",
       "      <td>...</td>\n",
       "      <td>...</td>\n",
       "      <td>...</td>\n",
       "      <td>...</td>\n",
       "      <td>...</td>\n",
       "      <td>...</td>\n",
       "      <td>...</td>\n",
       "    </tr>\n",
       "    <tr>\n",
       "      <th>284802</th>\n",
       "      <td>172786.0</td>\n",
       "      <td>-11.881118</td>\n",
       "      <td>10.071785</td>\n",
       "      <td>-9.834783</td>\n",
       "      <td>-2.066656</td>\n",
       "      <td>-5.364473</td>\n",
       "      <td>-2.606837</td>\n",
       "      <td>-4.918215</td>\n",
       "      <td>7.305334</td>\n",
       "      <td>1.914428</td>\n",
       "      <td>...</td>\n",
       "      <td>0.213454</td>\n",
       "      <td>0.111864</td>\n",
       "      <td>1.014480</td>\n",
       "      <td>-0.509348</td>\n",
       "      <td>1.436807</td>\n",
       "      <td>0.250034</td>\n",
       "      <td>0.943651</td>\n",
       "      <td>0.823731</td>\n",
       "      <td>0.77</td>\n",
       "      <td>0</td>\n",
       "    </tr>\n",
       "    <tr>\n",
       "      <th>284803</th>\n",
       "      <td>172787.0</td>\n",
       "      <td>-0.732789</td>\n",
       "      <td>-0.055080</td>\n",
       "      <td>2.035030</td>\n",
       "      <td>-0.738589</td>\n",
       "      <td>0.868229</td>\n",
       "      <td>1.058415</td>\n",
       "      <td>0.024330</td>\n",
       "      <td>0.294869</td>\n",
       "      <td>0.584800</td>\n",
       "      <td>...</td>\n",
       "      <td>0.214205</td>\n",
       "      <td>0.924384</td>\n",
       "      <td>0.012463</td>\n",
       "      <td>-1.016226</td>\n",
       "      <td>-0.606624</td>\n",
       "      <td>-0.395255</td>\n",
       "      <td>0.068472</td>\n",
       "      <td>-0.053527</td>\n",
       "      <td>24.79</td>\n",
       "      <td>0</td>\n",
       "    </tr>\n",
       "    <tr>\n",
       "      <th>284804</th>\n",
       "      <td>172788.0</td>\n",
       "      <td>1.919565</td>\n",
       "      <td>-0.301254</td>\n",
       "      <td>-3.249640</td>\n",
       "      <td>-0.557828</td>\n",
       "      <td>2.630515</td>\n",
       "      <td>3.031260</td>\n",
       "      <td>-0.296827</td>\n",
       "      <td>0.708417</td>\n",
       "      <td>0.432454</td>\n",
       "      <td>...</td>\n",
       "      <td>0.232045</td>\n",
       "      <td>0.578229</td>\n",
       "      <td>-0.037501</td>\n",
       "      <td>0.640134</td>\n",
       "      <td>0.265745</td>\n",
       "      <td>-0.087371</td>\n",
       "      <td>0.004455</td>\n",
       "      <td>-0.026561</td>\n",
       "      <td>67.88</td>\n",
       "      <td>0</td>\n",
       "    </tr>\n",
       "    <tr>\n",
       "      <th>284805</th>\n",
       "      <td>172788.0</td>\n",
       "      <td>-0.240440</td>\n",
       "      <td>0.530483</td>\n",
       "      <td>0.702510</td>\n",
       "      <td>0.689799</td>\n",
       "      <td>-0.377961</td>\n",
       "      <td>0.623708</td>\n",
       "      <td>-0.686180</td>\n",
       "      <td>0.679145</td>\n",
       "      <td>0.392087</td>\n",
       "      <td>...</td>\n",
       "      <td>0.265245</td>\n",
       "      <td>0.800049</td>\n",
       "      <td>-0.163298</td>\n",
       "      <td>0.123205</td>\n",
       "      <td>-0.569159</td>\n",
       "      <td>0.546668</td>\n",
       "      <td>0.108821</td>\n",
       "      <td>0.104533</td>\n",
       "      <td>10.00</td>\n",
       "      <td>0</td>\n",
       "    </tr>\n",
       "    <tr>\n",
       "      <th>284806</th>\n",
       "      <td>172792.0</td>\n",
       "      <td>-0.533413</td>\n",
       "      <td>-0.189733</td>\n",
       "      <td>0.703337</td>\n",
       "      <td>-0.506271</td>\n",
       "      <td>-0.012546</td>\n",
       "      <td>-0.649617</td>\n",
       "      <td>1.577006</td>\n",
       "      <td>-0.414650</td>\n",
       "      <td>0.486180</td>\n",
       "      <td>...</td>\n",
       "      <td>0.261057</td>\n",
       "      <td>0.643078</td>\n",
       "      <td>0.376777</td>\n",
       "      <td>0.008797</td>\n",
       "      <td>-0.473649</td>\n",
       "      <td>-0.818267</td>\n",
       "      <td>-0.002415</td>\n",
       "      <td>0.013649</td>\n",
       "      <td>217.00</td>\n",
       "      <td>0</td>\n",
       "    </tr>\n",
       "  </tbody>\n",
       "</table>\n",
       "<p>284807 rows × 31 columns</p>\n",
       "</div>"
      ],
      "text/plain": [
       "            Time         V1         V2        V3        V4        V5  \\\n",
       "0            0.0  -1.359807  -0.072781  2.536347  1.378155 -0.338321   \n",
       "1            0.0   1.191857   0.266151  0.166480  0.448154  0.060018   \n",
       "2            1.0  -1.358354  -1.340163  1.773209  0.379780 -0.503198   \n",
       "3            1.0  -0.966272  -0.185226  1.792993 -0.863291 -0.010309   \n",
       "4            2.0  -1.158233   0.877737  1.548718  0.403034 -0.407193   \n",
       "...          ...        ...        ...       ...       ...       ...   \n",
       "284802  172786.0 -11.881118  10.071785 -9.834783 -2.066656 -5.364473   \n",
       "284803  172787.0  -0.732789  -0.055080  2.035030 -0.738589  0.868229   \n",
       "284804  172788.0   1.919565  -0.301254 -3.249640 -0.557828  2.630515   \n",
       "284805  172788.0  -0.240440   0.530483  0.702510  0.689799 -0.377961   \n",
       "284806  172792.0  -0.533413  -0.189733  0.703337 -0.506271 -0.012546   \n",
       "\n",
       "              V6        V7        V8        V9  ...       V21       V22  \\\n",
       "0       0.462388  0.239599  0.098698  0.363787  ... -0.018307  0.277838   \n",
       "1      -0.082361 -0.078803  0.085102 -0.255425  ... -0.225775 -0.638672   \n",
       "2       1.800499  0.791461  0.247676 -1.514654  ...  0.247998  0.771679   \n",
       "3       1.247203  0.237609  0.377436 -1.387024  ... -0.108300  0.005274   \n",
       "4       0.095921  0.592941 -0.270533  0.817739  ... -0.009431  0.798278   \n",
       "...          ...       ...       ...       ...  ...       ...       ...   \n",
       "284802 -2.606837 -4.918215  7.305334  1.914428  ...  0.213454  0.111864   \n",
       "284803  1.058415  0.024330  0.294869  0.584800  ...  0.214205  0.924384   \n",
       "284804  3.031260 -0.296827  0.708417  0.432454  ...  0.232045  0.578229   \n",
       "284805  0.623708 -0.686180  0.679145  0.392087  ...  0.265245  0.800049   \n",
       "284806 -0.649617  1.577006 -0.414650  0.486180  ...  0.261057  0.643078   \n",
       "\n",
       "             V23       V24       V25       V26       V27       V28  Amount  \\\n",
       "0      -0.110474  0.066928  0.128539 -0.189115  0.133558 -0.021053  149.62   \n",
       "1       0.101288 -0.339846  0.167170  0.125895 -0.008983  0.014724    2.69   \n",
       "2       0.909412 -0.689281 -0.327642 -0.139097 -0.055353 -0.059752  378.66   \n",
       "3      -0.190321 -1.175575  0.647376 -0.221929  0.062723  0.061458  123.50   \n",
       "4      -0.137458  0.141267 -0.206010  0.502292  0.219422  0.215153   69.99   \n",
       "...          ...       ...       ...       ...       ...       ...     ...   \n",
       "284802  1.014480 -0.509348  1.436807  0.250034  0.943651  0.823731    0.77   \n",
       "284803  0.012463 -1.016226 -0.606624 -0.395255  0.068472 -0.053527   24.79   \n",
       "284804 -0.037501  0.640134  0.265745 -0.087371  0.004455 -0.026561   67.88   \n",
       "284805 -0.163298  0.123205 -0.569159  0.546668  0.108821  0.104533   10.00   \n",
       "284806  0.376777  0.008797 -0.473649 -0.818267 -0.002415  0.013649  217.00   \n",
       "\n",
       "        Class  \n",
       "0           0  \n",
       "1           0  \n",
       "2           0  \n",
       "3           0  \n",
       "4           0  \n",
       "...       ...  \n",
       "284802      0  \n",
       "284803      0  \n",
       "284804      0  \n",
       "284805      0  \n",
       "284806      0  \n",
       "\n",
       "[284807 rows x 31 columns]"
      ]
     },
     "execution_count": 137,
     "metadata": {},
     "output_type": "execute_result"
    }
   ],
   "source": [
    "df"
   ]
  },
  {
   "cell_type": "markdown",
   "id": "319667c6",
   "metadata": {},
   "source": [
    "Here we see that this dataset is highly imbalanced. This is very common for fraud detection, but we will need to take some measures to get useful results"
   ]
  },
  {
   "cell_type": "code",
   "execution_count": 138,
   "id": "b4ad4c8d",
   "metadata": {},
   "outputs": [
    {
     "data": {
      "text/html": [
       "<div>\n",
       "<style scoped>\n",
       "    .dataframe tbody tr th:only-of-type {\n",
       "        vertical-align: middle;\n",
       "    }\n",
       "\n",
       "    .dataframe tbody tr th {\n",
       "        vertical-align: top;\n",
       "    }\n",
       "\n",
       "    .dataframe thead th {\n",
       "        text-align: right;\n",
       "    }\n",
       "</style>\n",
       "<table border=\"1\" class=\"dataframe\">\n",
       "  <thead>\n",
       "    <tr style=\"text-align: right;\">\n",
       "      <th></th>\n",
       "      <th>Amount</th>\n",
       "    </tr>\n",
       "    <tr>\n",
       "      <th>Class</th>\n",
       "      <th></th>\n",
       "    </tr>\n",
       "  </thead>\n",
       "  <tbody>\n",
       "    <tr>\n",
       "      <th>0</th>\n",
       "      <td>284315</td>\n",
       "    </tr>\n",
       "    <tr>\n",
       "      <th>1</th>\n",
       "      <td>492</td>\n",
       "    </tr>\n",
       "  </tbody>\n",
       "</table>\n",
       "</div>"
      ],
      "text/plain": [
       "       Amount\n",
       "Class        \n",
       "0      284315\n",
       "1         492"
      ]
     },
     "execution_count": 138,
     "metadata": {},
     "output_type": "execute_result"
    }
   ],
   "source": [
    "df[['Class', 'Amount']].groupby(['Class']).count()"
   ]
  },
  {
   "cell_type": "markdown",
   "id": "3c040194",
   "metadata": {},
   "source": [
    "### Create a sample to test different models before training the whole dataset"
   ]
  },
  {
   "cell_type": "markdown",
   "id": "0b4d84f2",
   "metadata": {},
   "source": [
    "This step is important because our dataset has almost 30 features and more than 280 thousand rows, if we tried testing different models and parameters directly, it would take a long time and be computationally expensive."
   ]
  },
  {
   "cell_type": "code",
   "execution_count": 139,
   "id": "8ae74834",
   "metadata": {},
   "outputs": [],
   "source": [
    "sample = df.sample(frac=0.2, random_state=1)"
   ]
  },
  {
   "cell_type": "markdown",
   "id": "ac2d396c",
   "metadata": {},
   "source": [
    "### Create the sample train and test split"
   ]
  },
  {
   "cell_type": "code",
   "execution_count": 140,
   "id": "a0fa4f0c",
   "metadata": {},
   "outputs": [],
   "source": [
    "X_sample = sample.drop(columns=['Class'])\n",
    "y_sample = sample[['Class']]"
   ]
  },
  {
   "cell_type": "code",
   "execution_count": 141,
   "id": "c1371cf1",
   "metadata": {},
   "outputs": [],
   "source": [
    "X_train_sample, X_test_sample, y_train_sample, y_test_sample = model_selection.train_test_split(X_sample, y_sample, test_size=0.3)"
   ]
  },
  {
   "cell_type": "markdown",
   "id": "4083c9d1",
   "metadata": {},
   "source": [
    "### Oversample the minority class"
   ]
  },
  {
   "cell_type": "markdown",
   "id": "64780fb4",
   "metadata": {},
   "source": [
    "The method I chose to deal with the imbalance in this dataset is oversampling. I chose this after testing a few others like undersampling and random oversampling, the SMOTE performed best in this scenario. I also used a set random_state to guarantee the reproducibility of the results."
   ]
  },
  {
   "cell_type": "code",
   "execution_count": 142,
   "id": "486d8991",
   "metadata": {},
   "outputs": [],
   "source": [
    "os = SMOTE(random_state=1)\n",
    "X_train_sample_over, y_train_sample_over = os.fit_resample(X_train_sample, y_train_sample)"
   ]
  },
  {
   "cell_type": "markdown",
   "id": "0708fb22",
   "metadata": {},
   "source": [
    "### Test model parameters in sample"
   ]
  },
  {
   "cell_type": "markdown",
   "id": "970cd518",
   "metadata": {},
   "source": [
    "Because the main goal of this model is to detect fraudulent transactions, we would rather have a safe transaction classified as fraud (false positive) than a fraud transaction classified as safe (false negative).\n",
    "\n",
    "To reach this goal, my main metric to follow was the recall, but I also kept an eye on the precision and the F1 score to make sure they didn't get out of hand."
   ]
  },
  {
   "cell_type": "code",
   "execution_count": 143,
   "id": "0ada4e8e",
   "metadata": {
    "scrolled": true
   },
   "outputs": [
    {
     "name": "stdout",
     "output_type": "stream",
     "text": [
      "Recall: 0.7619047619047619\n",
      "Precision: 0.7272727272727273\n",
      "F1 score: 0.7441860465116279\n"
     ]
    }
   ],
   "source": [
    "rfc_sample = RandomForestClassifier().fit(X_train_sample_over, y_train_sample_over.values.ravel())\n",
    "y_pred_sample = rfc_sample.predict(X_test_sample)\n",
    "\n",
    "print('Recall:', metrics.recall_score(y_test_sample, y_pred_sample))\n",
    "print('Precision:', metrics.precision_score(y_test_sample, y_pred_sample))\n",
    "print('F1 score:', metrics.f1_score(y_test_sample, y_pred_sample))"
   ]
  },
  {
   "cell_type": "code",
   "execution_count": 144,
   "id": "ef05d7de",
   "metadata": {},
   "outputs": [],
   "source": [
    "results_rfc_sample = pd.DataFrame(y_pred_sample)\n",
    "results_rfc_sample['real'] = y_test_sample['Class'].to_numpy()\n",
    "results_rfc_sample.rename(columns={0:'predicted'}, inplace=True )\n",
    "\n",
    "conditions = [((results_rfc_sample['predicted']==1) & (results_rfc_sample['real']==1)),((results_rfc_sample['predicted']== 1) & (results_rfc_sample['real']==0)),((results_rfc_sample['predicted']==0) & (results_rfc_sample['real']==0)),((results_rfc_sample['predicted']==0) & (results_rfc_sample['real']==1))]\n",
    "choice = ['True positive', 'False positive', 'True negative', 'False negative']\n",
    "results_rfc_sample['eval'] = np.select(conditions, choice)\n",
    "\n",
    "res_group_sample = results_rfc[['eval','real']].groupby(['eval']).count()"
   ]
  },
  {
   "cell_type": "markdown",
   "id": "f4f4b537",
   "metadata": {},
   "source": [
    "This table serves as a simplified confusion matrix"
   ]
  },
  {
   "cell_type": "code",
   "execution_count": 145,
   "id": "ff332a6c",
   "metadata": {
    "scrolled": true
   },
   "outputs": [
    {
     "data": {
      "text/html": [
       "<div>\n",
       "<style scoped>\n",
       "    .dataframe tbody tr th:only-of-type {\n",
       "        vertical-align: middle;\n",
       "    }\n",
       "\n",
       "    .dataframe tbody tr th {\n",
       "        vertical-align: top;\n",
       "    }\n",
       "\n",
       "    .dataframe thead th {\n",
       "        text-align: right;\n",
       "    }\n",
       "</style>\n",
       "<table border=\"1\" class=\"dataframe\">\n",
       "  <thead>\n",
       "    <tr style=\"text-align: right;\">\n",
       "      <th></th>\n",
       "      <th>real</th>\n",
       "    </tr>\n",
       "    <tr>\n",
       "      <th>eval</th>\n",
       "      <th></th>\n",
       "    </tr>\n",
       "  </thead>\n",
       "  <tbody>\n",
       "    <tr>\n",
       "      <th>False negative</th>\n",
       "      <td>18</td>\n",
       "    </tr>\n",
       "    <tr>\n",
       "      <th>False positive</th>\n",
       "      <td>10</td>\n",
       "    </tr>\n",
       "    <tr>\n",
       "      <th>True negative</th>\n",
       "      <td>56865</td>\n",
       "    </tr>\n",
       "    <tr>\n",
       "      <th>True positive</th>\n",
       "      <td>69</td>\n",
       "    </tr>\n",
       "  </tbody>\n",
       "</table>\n",
       "</div>"
      ],
      "text/plain": [
       "                 real\n",
       "eval                 \n",
       "False negative     18\n",
       "False positive     10\n",
       "True negative   56865\n",
       "True positive      69"
      ]
     },
     "execution_count": 145,
     "metadata": {},
     "output_type": "execute_result"
    }
   ],
   "source": [
    "res_group_sample"
   ]
  },
  {
   "cell_type": "markdown",
   "id": "3af31e3d",
   "metadata": {},
   "source": [
    "### Apply a random search to tune the parameters"
   ]
  },
  {
   "cell_type": "markdown",
   "id": "58052625",
   "metadata": {},
   "source": [
    "After testing and opting for the Random Forest Classifier model, we can start testing the hyperparameters. \n",
    "\n",
    "Although hyperparameters in a sample don't reflect perfectly on the final model with the full dataset, I find it best to use a sample first to filter out most values and test just a few on the more computationally demanding model."
   ]
  },
  {
   "cell_type": "code",
   "execution_count": 146,
   "id": "3a4d0a2c",
   "metadata": {
    "scrolled": true
   },
   "outputs": [],
   "source": [
    "rfc1 = RandomForestClassifier(class_weight='balanced', random_state=1)\n",
    "\n",
    "param_distributions_continuous = {'n_estimators': [int(x) for x in np.linspace(start = 20, stop = 22, num = 5)]}\n",
    "#param_distributions_categorical = {'max_features':['auto', 'sqrt', 'log2']}\n",
    "\n",
    "#clf1 = model_selection.RandomizedSearchCV(rfc1, param_distributions_continuous, random_state=1, scoring='f1')\n",
    "clf2 = model_selection.GridSearchCV(rfc1, param_distributions_continuous, scoring='f1')\n",
    "#clf3 = model_selection.GridSearchCV(rfc1, param_distributions_categorical, scoring='f1')\n",
    "\n",
    "search = clf2.fit(X_train_sample_over, y_train_sample_over.values.ravel())"
   ]
  },
  {
   "cell_type": "code",
   "execution_count": 147,
   "id": "61a66719",
   "metadata": {},
   "outputs": [
    {
     "name": "stdout",
     "output_type": "stream",
     "text": [
      "{'n_estimators': 20}\n",
      "0.9999120879114937\n"
     ]
    }
   ],
   "source": [
    "print(search.best_params_)\n",
    "print(search.best_score_)"
   ]
  },
  {
   "cell_type": "markdown",
   "id": "54a187a8",
   "metadata": {},
   "source": [
    "### Create the train and test split and oversample the minority class"
   ]
  },
  {
   "cell_type": "markdown",
   "id": "f6800772",
   "metadata": {},
   "source": [
    "After running some tests with the parameters, we can go for the model with the full dataset.\n",
    "\n",
    "We use the same logic as before, just abandoning the sample."
   ]
  },
  {
   "cell_type": "code",
   "execution_count": 167,
   "id": "9c6fa2b3",
   "metadata": {},
   "outputs": [],
   "source": [
    "X = df.drop(columns=['Class'])\n",
    "y = df[['Class']]"
   ]
  },
  {
   "cell_type": "markdown",
   "id": "832ddf12",
   "metadata": {},
   "source": [
    "I chose a split of 90/10 because our dataset is pretty large, so 10% still leaves us with plenty of test data (almost 30k)"
   ]
  },
  {
   "cell_type": "code",
   "execution_count": 230,
   "id": "55663f8a",
   "metadata": {},
   "outputs": [],
   "source": [
    "X_train, X_test, y_train, y_test = model_selection.train_test_split(X, y, test_size=0.1)"
   ]
  },
  {
   "cell_type": "code",
   "execution_count": 231,
   "id": "296bb487",
   "metadata": {
    "scrolled": true
   },
   "outputs": [],
   "source": [
    "os = SMOTE()\n",
    "X_train_over, y_train_over = os.fit_resample(X_train, y_train)"
   ]
  },
  {
   "cell_type": "markdown",
   "id": "5aa6d2ba",
   "metadata": {},
   "source": [
    "This is the final model, but this code has been altered a few times as I tested different parameter to fine tune the scores.\n",
    "\n",
    "The parameters shown here were selected after many rounds of testing for having the best scores overall."
   ]
  },
  {
   "cell_type": "code",
   "execution_count": 232,
   "id": "e7f9d0cd",
   "metadata": {
    "scrolled": false
   },
   "outputs": [
    {
     "name": "stdout",
     "output_type": "stream",
     "text": [
      "Recall: 0.8085106382978723\n",
      "Precision: 0.8636363636363636\n",
      "F1 score: 0.8351648351648351\n"
     ]
    }
   ],
   "source": [
    "rfc = RandomForestClassifier(n_estimators=90, max_features='auto', bootstrap=True, class_weight='balanced').fit(X_train_over, y_train_over.values.ravel())\n",
    "y_pred = rfc.predict(X_test)\n",
    "\n",
    "print('Recall:', metrics.recall_score(y_test, y_pred))\n",
    "print('Precision:', metrics.precision_score(y_test, y_pred))\n",
    "print('F1 score:', metrics.f1_score(y_test, y_pred))"
   ]
  },
  {
   "cell_type": "code",
   "execution_count": 229,
   "id": "cb8d3981",
   "metadata": {},
   "outputs": [
    {
     "data": {
      "text/plain": [
       "0.9995435553526912"
      ]
     },
     "execution_count": 229,
     "metadata": {},
     "output_type": "execute_result"
    }
   ],
   "source": [
    "rfc.score(X_test, y_test)"
   ]
  },
  {
   "cell_type": "code",
   "execution_count": 221,
   "id": "d4ea7e52",
   "metadata": {},
   "outputs": [],
   "source": [
    "results_rfc = pd.DataFrame(y_pred)\n",
    "results_rfc['real'] = y_test['Class'].to_numpy()\n",
    "results_rfc.rename(columns={0:'predicted'}, inplace=True )\n",
    "\n",
    "conditions = [((results_rfc['predicted']==1) & (results_rfc['real']==1)),((results_rfc['predicted']==1) & (results_rfc['real']==0)),((results_rfc['predicted']==0) & (results_rfc['real']==0)),((results_rfc['predicted']==0) & (results_rfc['real']==1))]\n",
    "choice = ['True positive', 'False positive', 'True negative', 'False negative']\n",
    "results_rfc['eval'] = np.select(conditions, choice)\n",
    "\n",
    "res_group = results_rfc[['eval','real']].groupby(['eval']).count()"
   ]
  },
  {
   "cell_type": "markdown",
   "id": "3f464a91",
   "metadata": {},
   "source": [
    "Here we have the same table acting as a confusion matrix"
   ]
  },
  {
   "cell_type": "code",
   "execution_count": 222,
   "id": "e55d556d",
   "metadata": {},
   "outputs": [
    {
     "data": {
      "text/html": [
       "<div>\n",
       "<style scoped>\n",
       "    .dataframe tbody tr th:only-of-type {\n",
       "        vertical-align: middle;\n",
       "    }\n",
       "\n",
       "    .dataframe tbody tr th {\n",
       "        vertical-align: top;\n",
       "    }\n",
       "\n",
       "    .dataframe thead th {\n",
       "        text-align: right;\n",
       "    }\n",
       "</style>\n",
       "<table border=\"1\" class=\"dataframe\">\n",
       "  <thead>\n",
       "    <tr style=\"text-align: right;\">\n",
       "      <th></th>\n",
       "      <th>real</th>\n",
       "    </tr>\n",
       "    <tr>\n",
       "      <th>eval</th>\n",
       "      <th></th>\n",
       "    </tr>\n",
       "  </thead>\n",
       "  <tbody>\n",
       "    <tr>\n",
       "      <th>False negative</th>\n",
       "      <td>6</td>\n",
       "    </tr>\n",
       "    <tr>\n",
       "      <th>False positive</th>\n",
       "      <td>7</td>\n",
       "    </tr>\n",
       "    <tr>\n",
       "      <th>True negative</th>\n",
       "      <td>28431</td>\n",
       "    </tr>\n",
       "    <tr>\n",
       "      <th>True positive</th>\n",
       "      <td>37</td>\n",
       "    </tr>\n",
       "  </tbody>\n",
       "</table>\n",
       "</div>"
      ],
      "text/plain": [
       "                 real\n",
       "eval                 \n",
       "False negative      6\n",
       "False positive      7\n",
       "True negative   28431\n",
       "True positive      37"
      ]
     },
     "execution_count": 222,
     "metadata": {},
     "output_type": "execute_result"
    }
   ],
   "source": [
    "res_group"
   ]
  },
  {
   "cell_type": "markdown",
   "id": "144a965b",
   "metadata": {},
   "source": [
    "And with this final version of the model, we can generally get a score of over 99.9% with a true positive rate around 85% ± 3%"
   ]
  }
 ],
 "metadata": {
  "kernelspec": {
   "display_name": "Python 3 (ipykernel)",
   "language": "python",
   "name": "python3"
  },
  "language_info": {
   "codemirror_mode": {
    "name": "ipython",
    "version": 3
   },
   "file_extension": ".py",
   "mimetype": "text/x-python",
   "name": "python",
   "nbconvert_exporter": "python",
   "pygments_lexer": "ipython3",
   "version": "3.8.11"
  }
 },
 "nbformat": 4,
 "nbformat_minor": 5
}
